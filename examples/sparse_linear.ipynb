{
 "cells": [
  {
   "cell_type": "code",
   "execution_count": 1,
   "metadata": {},
   "outputs": [],
   "source": [
    "# ----------------------------------------------------------------------\n",
    "# Numenta Platform for Intelligent Computing (NuPIC)\n",
    "# Copyright (C) 2019, Numenta, Inc.  Unless you have an agreement\n",
    "# with Numenta, Inc., for a separate license for this software code, the\n",
    "# following terms and conditions apply:\n",
    "#\n",
    "# This program is free software: you can redistribute it and/or modify\n",
    "# it under the terms of the GNU Affero Public License version 3 as\n",
    "# published by the Free Software Foundation.\n",
    "#\n",
    "# This program is distributed in the hope that it will be useful,\n",
    "# but WITHOUT ANY WARRANTY; without even the implied warranty of\n",
    "# MERCHANTABILITY or FITNESS FOR A PARTICULAR PURPOSE.\n",
    "# See the GNU Affero Public License for more details.\n",
    "#\n",
    "# You should have received a copy of the GNU Affero Public License\n",
    "# along with this program.  If not, see http://www.gnu.org/licenses.\n",
    "#\n",
    "# http://numenta.org/licenses/\n",
    "# ----------------------------------------------------------------------"
   ]
  },
  {
   "cell_type": "code",
   "execution_count": 2,
   "metadata": {},
   "outputs": [],
   "source": [
    "# Uncomment the following line to install nupic.torch\n",
    "!pip install -e git+https://github.com/numenta/nupic.torch.git#egg=nupic.torch"
   ]
  },
  {
   "cell_type": "code",
   "execution_count": 3,
   "metadata": {},
   "outputs": [],
   "source": [
    "import numpy as np\n",
    "import torch\n",
    "import torch.nn as nn\n",
    "import torch.nn.functional as F\n",
    "import torch.optim as optim\n",
    "from torchvision import datasets, transforms\n",
    "\n",
    "torch.manual_seed(18)\n",
    "np.random.seed(18)\n",
    "\n",
    "# Use GPU if available\n",
    "device = torch.device(\"cuda\" if torch.cuda.is_available() else \"cpu\")"
   ]
  },
  {
   "cell_type": "code",
   "execution_count": 4,
   "metadata": {},
   "outputs": [],
   "source": [
    "class RandomNoise(object):\n",
    "  \"\"\"\n",
    "  An image transform that adds noise to random pixels in the image.\n",
    "  \"\"\"\n",
    "  def __init__(self, noiselevel=0.0, whiteValue=0.1307 + 2*0.3081):\n",
    "    \"\"\"\n",
    "    :param noiselevel:\n",
    "      From 0 to 1. For each pixel, set its value to whiteValue with this\n",
    "      probability. Suggested whiteVolue is 'mean + 2*stdev'\n",
    "    \"\"\"\n",
    "    self.noiseLevel = noiselevel\n",
    "    self.whiteValue = whiteValue\n",
    "\n",
    "  def __call__(self, image):\n",
    "    a = image.view(-1)\n",
    "    numNoiseBits = int(a.shape[0] * self.noiseLevel)\n",
    "    noise = np.random.permutation(a.shape[0])[0:numNoiseBits]\n",
    "    a[noise] = self.whiteValue\n",
    "    return image\n",
    "\n",
    "def train(model, loader, optimizer, criterion):\n",
    "    \"\"\"\n",
    "    Train the model using given dataset loader. \n",
    "    Called on every epoch.\n",
    "    :param model: pytorch model to be trained\n",
    "    :type model: torch.nn.Module\n",
    "    :param loader: dataloader configured for the epoch.\n",
    "    :type loader: :class:`torch.utils.data.DataLoader`\n",
    "    :param optimizer: Optimizer object used to train the model.\n",
    "    :type optimizer: :class:`torch.optim.Optimizer`\n",
    "    :param criterion: loss function to use\n",
    "    :type criterion: function\n",
    "    \"\"\"\n",
    "    model.train()\n",
    "    for batch_idx, (data, target) in enumerate(loader):\n",
    "        data, target = data.to(device), target.to(device)\n",
    "        optimizer.zero_grad()\n",
    "        output = model(data)\n",
    "        loss = criterion(output, target)\n",
    "        loss.backward()\n",
    "        optimizer.step()\n",
    "\n",
    "\n",
    "def test(model, loader, criterion):\n",
    "    \"\"\"\n",
    "    Evaluate pre-trained model using given dataset loader.\n",
    "    Called on every epoch.\n",
    "    :param model: Pretrained pytorch model\n",
    "    :type model: torch.nn.Module\n",
    "    :param loader: dataloader configured for the epoch.\n",
    "    :type loader: :class:`torch.utils.data.DataLoader`\n",
    "    :param criterion: loss function to use\n",
    "    :type criterion: function\n",
    "    :return: Dict with \"accuracy\", \"loss\" and \"total_correct\"\n",
    "    \"\"\"\n",
    "    model.eval()\n",
    "    loss = 0\n",
    "    total_correct = 0\n",
    "    with torch.no_grad():\n",
    "        for data, target in loader:\n",
    "            data, target = data.to(device), target.to(device)\n",
    "            output = model(data)\n",
    "            loss += criterion(output, target, reduction='sum').item() # sum up batch loss\n",
    "            pred = output.argmax(dim=1, keepdim=True) # get the index of the max log-probability\n",
    "            total_correct += pred.eq(target.view_as(pred)).sum().item()\n",
    "    \n",
    "    return {\"accuracy\": total_correct / len(loader.dataset), \n",
    "            \"loss\": loss / len(loader.dataset), \n",
    "            \"total_correct\": total_correct}"
   ]
  },
  {
   "cell_type": "markdown",
   "metadata": {},
   "source": [
    "### Parameters"
   ]
  },
  {
   "cell_type": "code",
   "execution_count": 5,
   "metadata": {},
   "outputs": [],
   "source": [
    "# MLP configuration\n",
    "INPUT_SIZE = 28*28  \n",
    "HIDDEN_SIZE = 1000  \n",
    "OUTPUT_SIZE = 10    \n",
    "\n",
    "# Sparsity parameters\n",
    "WEIGHT_SPARSITY = 0.3\n",
    "\n",
    "# K-Winners parameters\n",
    "K = 100\n",
    "K_INFERENCE_FACTOR = 1.5\n",
    "BOOST_STRENGTH = 1.0\n",
    "BOOST_STRENGTH_FACTOR = 0.9\n",
    "\n",
    "# Training parameters\n",
    "LEARNING_RATE = 0.01\n",
    "MOMENTUM = 0.5\n",
    "EPOCHS = 10\n",
    "FIRST_EPOCH_BATCH_SIZE = 4\n",
    "TRAIN_BATCH_SIZE = 64\n",
    "TEST_BATCH_SIZE = 1000\n",
    "\n",
    "# Noise test parameters\n",
    "NOISE_LEVELS = [0.05, 0.10, 0.15, 0.20, 0.25]"
   ]
  },
  {
   "cell_type": "markdown",
   "metadata": {},
   "source": [
    "###  Sparse Linear Model\n",
    "Create a sparse MLP network with 2 hidden layers. We apply 30% sparsity to every hidden layer and use k-winners activation between the layers"
   ]
  },
  {
   "cell_type": "code",
   "execution_count": 6,
   "metadata": {},
   "outputs": [],
   "source": [
    "from nupic.torch.modules import KWinners, SparseWeights, Flatten\n",
    "\n",
    "sparseNN = nn.Sequential(\n",
    "    Flatten(),\n",
    "\n",
    "    # First Hidden layer\n",
    "    SparseWeights(nn.Linear(INPUT_SIZE, HIDDEN_SIZE), weightSparsity=WEIGHT_SPARSITY),\n",
    "    KWinners(n=HIDDEN_SIZE, k=K, kInferenceFactor=K_INFERENCE_FACTOR, \n",
    "             boostStrength=BOOST_STRENGTH, boostStrengthFactor=BOOST_STRENGTH_FACTOR),\n",
    "\n",
    "    # Second Hidden layer\n",
    "    SparseWeights(nn.Linear(HIDDEN_SIZE, HIDDEN_SIZE), weightSparsity=WEIGHT_SPARSITY),\n",
    "    KWinners(n=HIDDEN_SIZE, k=K, kInferenceFactor=K_INFERENCE_FACTOR, \n",
    "             boostStrength=BOOST_STRENGTH, boostStrengthFactor=BOOST_STRENGTH_FACTOR),\n",
    "\n",
    "    # Output layer\n",
    "    nn.Linear(HIDDEN_SIZE, OUTPUT_SIZE),\n",
    "    nn.LogSoftmax(dim=1)\n",
    ").to(device)"
   ]
  },
  {
   "cell_type": "markdown",
   "metadata": {},
   "source": [
    "### Load MNIST Dataset"
   ]
  },
  {
   "cell_type": "code",
   "execution_count": 7,
   "metadata": {},
   "outputs": [],
   "source": [
    "normalize = transforms.Compose([transforms.ToTensor(),transforms.Normalize((0.1307,), (0.3081,))])\n",
    "train_dataset = datasets.MNIST('data', train=True, download=True, transform=normalize)\n",
    "test_dataset = datasets.MNIST('data', train=False, transform=normalize)\n",
    "\n",
    "# Configure data loaders\n",
    "train_loader = torch.utils.data.DataLoader(train_dataset, batch_size=TRAIN_BATCH_SIZE, shuffle=True)\n",
    "test_loader = torch.utils.data.DataLoader(test_dataset, batch_size=TEST_BATCH_SIZE, shuffle=True)\n",
    "first_loader = torch.utils.data.DataLoader(train_dataset, batch_size=FIRST_EPOCH_BATCH_SIZE, shuffle=True)"
   ]
  },
  {
   "cell_type": "markdown",
   "metadata": {},
   "source": [
    "### Train\n",
    "On the first epoch we use smaller batch size to calculate the duty cycles used by the k-winner function. Once the duty cycles stabilize we can use larger batch sizes."
   ]
  },
  {
   "cell_type": "code",
   "execution_count": 8,
   "metadata": {},
   "outputs": [
    {
     "name": "stdout",
     "output_type": "stream",
     "text": [
      "{'accuracy': 0.9506, 'loss': 0.16315889587402344, 'total_correct': 9506}\n"
     ]
    }
   ],
   "source": [
    "sgd = optim.SGD(sparseNN.parameters(), lr=LEARNING_RATE, momentum=MOMENTUM)\n",
    "train(model=sparseNN, loader=first_loader, optimizer=sgd, criterion=F.nll_loss)\n",
    "results = test(model=sparseNN, loader=test_loader, criterion=F.nll_loss)\n",
    "print(results)"
   ]
  },
  {
   "cell_type": "markdown",
   "metadata": {},
   "source": [
    "At this point the duty cycles should be stable and we can train on larger batch sizes"
   ]
  },
  {
   "cell_type": "code",
   "execution_count": 9,
   "metadata": {},
   "outputs": [
    {
     "name": "stdout",
     "output_type": "stream",
     "text": [
      "{'accuracy': 0.9627, 'loss': 0.12201591415405273, 'total_correct': 9627}\n",
      "{'accuracy': 0.9634, 'loss': 0.12190820617675781, 'total_correct': 9634}\n",
      "{'accuracy': 0.9623, 'loss': 0.12345575714111329, 'total_correct': 9623}\n",
      "{'accuracy': 0.9639, 'loss': 0.1185587173461914, 'total_correct': 9639}\n",
      "{'accuracy': 0.9611, 'loss': 0.11994301071166992, 'total_correct': 9611}\n",
      "{'accuracy': 0.9633, 'loss': 0.11600606689453125, 'total_correct': 9633}\n",
      "{'accuracy': 0.9634, 'loss': 0.11699238586425781, 'total_correct': 9634}\n",
      "{'accuracy': 0.9639, 'loss': 0.11530724716186523, 'total_correct': 9639}\n",
      "{'accuracy': 0.9633, 'loss': 0.11797227020263672, 'total_correct': 9633}\n"
     ]
    }
   ],
   "source": [
    "for epoch in range(1, EPOCHS):\n",
    "    train(model=sparseNN, loader=train_loader, optimizer=sgd, criterion=F.nll_loss)\n",
    "    results = test(model=sparseNN, loader=test_loader, criterion=F.nll_loss)\n",
    "    print(results)"
   ]
  },
  {
   "cell_type": "markdown",
   "metadata": {},
   "source": [
    "### Noise\n",
    "Add noise to the input and check the test accuracy"
   ]
  },
  {
   "cell_type": "code",
   "execution_count": 10,
   "metadata": {},
   "outputs": [
    {
     "name": "stdout",
     "output_type": "stream",
     "text": [
      "0.05 : {'accuracy': 0.9541, 'loss': 0.14802040100097658, 'total_correct': 9541}\n",
      "0.1 : {'accuracy': 0.939, 'loss': 0.1916733642578125, 'total_correct': 9390}\n",
      "0.15 : {'accuracy': 0.9094, 'loss': 0.2852293640136719, 'total_correct': 9094}\n",
      "0.2 : {'accuracy': 0.8639, 'loss': 0.4125948455810547, 'total_correct': 8639}\n",
      "0.25 : {'accuracy': 0.8043, 'loss': 0.5801907653808593, 'total_correct': 8043}\n"
     ]
    }
   ],
   "source": [
    "for noise in NOISE_LEVELS:\n",
    "    noise_transform = transforms.Compose([transforms.ToTensor(), RandomNoise(noise), \n",
    "                                      transforms.Normalize((0.1307,), (0.3081,))])\n",
    "    noise_dataset = datasets.MNIST('data', train=False, transform=noise_transform)\n",
    "    noise_loader = torch.utils.data.DataLoader(noise_dataset, batch_size=TEST_BATCH_SIZE, shuffle=True)\n",
    "\n",
    "    results = test(model=sparseNN, loader=noise_loader, criterion=F.nll_loss)\n",
    "    print(noise, \":\", results)"
   ]
  }
 ],
 "metadata": {
  "kernelspec": {
   "display_name": "Python 3",
   "language": "python",
   "name": "python3"
  },
  "language_info": {
   "codemirror_mode": {
    "name": "ipython",
    "version": 3
   },
   "file_extension": ".py",
   "mimetype": "text/x-python",
   "name": "python",
   "nbconvert_exporter": "python",
   "pygments_lexer": "ipython3",
   "version": "3.6.7"
  }
 },
 "nbformat": 4,
 "nbformat_minor": 1
}
