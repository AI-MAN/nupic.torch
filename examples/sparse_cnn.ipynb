{
 "cells": [
  {
   "cell_type": "code",
   "execution_count": 1,
   "metadata": {},
   "outputs": [],
   "source": [
    "# ----------------------------------------------------------------------\n",
    "# Numenta Platform for Intelligent Computing (NuPIC)\n",
    "# Copyright (C) 2019, Numenta, Inc.  Unless you have an agreement\n",
    "# with Numenta, Inc., for a separate license for this software code, the\n",
    "# following terms and conditions apply:\n",
    "#\n",
    "# This program is free software: you can redistribute it and/or modify\n",
    "# it under the terms of the GNU Affero Public License version 3 as\n",
    "# published by the Free Software Foundation.\n",
    "#\n",
    "# This program is distributed in the hope that it will be useful,\n",
    "# but WITHOUT ANY WARRANTY; without even the implied warranty of\n",
    "# MERCHANTABILITY or FITNESS FOR A PARTICULAR PURPOSE.\n",
    "# See the GNU Affero Public License for more details.\n",
    "#\n",
    "# You should have received a copy of the GNU Affero Public License\n",
    "# along with this program.  If not, see http://www.gnu.org/licenses.\n",
    "#\n",
    "# http://numenta.org/licenses/\n",
    "# ----------------------------------------------------------------------"
   ]
  },
  {
   "cell_type": "code",
   "execution_count": null,
   "metadata": {},
   "outputs": [],
   "source": [
    "# Uncomment the following line to install nupic.torch\n",
    "!pip install -e git+https://github.com/numenta/nupic.torch.git#egg=nupic.torch"
   ]
  },
  {
   "cell_type": "code",
   "execution_count": 3,
   "metadata": {},
   "outputs": [],
   "source": [
    "import numpy as np\n",
    "import torch\n",
    "import torch.nn as nn\n",
    "import torch.nn.functional as F\n",
    "import torch.optim as optim\n",
    "from torchvision import datasets, transforms\n",
    "\n",
    "torch.manual_seed(18)\n",
    "np.random.seed(18)\n",
    "\n",
    "# Use GPU if available\n",
    "device = torch.device(\"cuda\" if torch.cuda.is_available() else \"cpu\")"
   ]
  },
  {
   "cell_type": "code",
   "execution_count": 4,
   "metadata": {},
   "outputs": [],
   "source": [
    "class RandomNoise(object):\n",
    "  \"\"\"\n",
    "  An image transform that adds noise to random pixels in the image.\n",
    "  \"\"\"\n",
    "  def __init__(self, noiselevel=0.0, whiteValue=0.1307 + 2*0.3081):\n",
    "    \"\"\"\n",
    "    :param noiselevel:\n",
    "      From 0 to 1. For each pixel, set its value to whiteValue with this\n",
    "      probability. Suggested whiteVolue is 'mean + 2*stdev'\n",
    "    \"\"\"\n",
    "    self.noiseLevel = noiselevel\n",
    "    self.whiteValue = whiteValue\n",
    "\n",
    "  def __call__(self, image):\n",
    "    a = image.view(-1)\n",
    "    numNoiseBits = int(a.shape[0] * self.noiseLevel)\n",
    "    noise = np.random.permutation(a.shape[0])[0:numNoiseBits]\n",
    "    a[noise] = self.whiteValue\n",
    "    return image\n",
    "\n",
    "\n",
    "def train(model, loader, optimizer, criterion):\n",
    "    \"\"\"\n",
    "    Train the model using given dataset loader. \n",
    "    Called on every epoch.\n",
    "    :param model: pytorch model to be trained\n",
    "    :type model: torch.nn.Module\n",
    "    :param loader: dataloader configured for the epoch.\n",
    "    :type loader: :class:`torch.utils.data.DataLoader`\n",
    "    :param optimizer: Optimizer object used to train the model.\n",
    "    :type optimizer: :class:`torch.optim.Optimizer`\n",
    "    :param criterion: loss function to use\n",
    "    :type criterion: function\n",
    "    \"\"\"\n",
    "    model.train()\n",
    "    for batch_idx, (data, target) in enumerate(loader):\n",
    "        data, target = data.to(device), target.to(device)\n",
    "        optimizer.zero_grad()\n",
    "        output = model(data)\n",
    "        loss = criterion(output, target)\n",
    "        loss.backward()\n",
    "        optimizer.step()\n",
    "\n",
    "\n",
    "def test(model, loader, criterion):\n",
    "    \"\"\"\n",
    "    Evaluate pre-trained model using given dataset loader.\n",
    "    Called on every epoch.\n",
    "    :param model: Pretrained pytorch model\n",
    "    :type model: torch.nn.Module\n",
    "    :param loader: dataloader configured for the epoch.\n",
    "    :type loader: :class:`torch.utils.data.DataLoader`\n",
    "    :param criterion: loss function to use\n",
    "    :type criterion: function\n",
    "    :return: Dict with \"accuracy\", \"loss\" and \"total_correct\"\n",
    "    \"\"\"\n",
    "    model.eval()\n",
    "    loss = 0\n",
    "    total_correct = 0\n",
    "    with torch.no_grad():\n",
    "        for data, target in loader:\n",
    "            data, target = data.to(device), target.to(device)\n",
    "            output = model(data)\n",
    "            loss += criterion(output, target, reduction='sum').item() # sum up batch loss\n",
    "            pred = output.argmax(dim=1, keepdim=True) # get the index of the max log-probability\n",
    "            total_correct += pred.eq(target.view_as(pred)).sum().item()\n",
    "    \n",
    "    return {\"accuracy\": total_correct / len(loader.dataset), \n",
    "            \"loss\": loss / len(loader.dataset), \n",
    "            \"total_correct\": total_correct}"
   ]
  },
  {
   "cell_type": "markdown",
   "metadata": {},
   "source": [
    "### Parameters"
   ]
  },
  {
   "cell_type": "code",
   "execution_count": 5,
   "metadata": {},
   "outputs": [],
   "source": [
    "# CNN layer configuration\n",
    "IN_CHANNELS = 1\n",
    "OUT_CHANNELS = 30\n",
    "KERNEL_SIZE = 5\n",
    "WIDTH = 28\n",
    "CNN_OUTPUT_LEN = OUT_CHANNELS * ((WIDTH - KERNEL_SIZE + 1) // 2) ** 2 \n",
    "\n",
    "# Linear layer configuration\n",
    "HIDDEN_SIZE = 150\n",
    "OUTPUT_SIZE = 10    \n",
    "\n",
    "# Sparsity parameters\n",
    "WEIGHT_SPARSITY = 0.3\n",
    "\n",
    "# K-Winners parameters\n",
    "K = 50\n",
    "CNN_K = 400\n",
    "K_INFERENCE_FACTOR = 1.5\n",
    "BOOST_STRENGTH = 1.4\n",
    "BOOST_STRENGTH_FACTOR = 0.85\n",
    "\n",
    "# Training parameters\n",
    "LEARNING_RATE = 0.01\n",
    "MOMENTUM = 0.5\n",
    "EPOCHS = 10\n",
    "FIRST_EPOCH_BATCH_SIZE = 4\n",
    "TRAIN_BATCH_SIZE = 64\n",
    "TEST_BATCH_SIZE = 1000\n",
    "\n",
    "# Noise test parameters\n",
    "NOISE_LEVELS = [0.05, 0.10, 0.15, 0.20, 0.25]"
   ]
  },
  {
   "cell_type": "markdown",
   "metadata": {},
   "source": [
    "###  Sparse CNN Model\n",
    "Create a sparse CNN network composed of one convolution layer followed by a sparse linear layer with using k-winner activation between the layers"
   ]
  },
  {
   "cell_type": "code",
   "execution_count": 6,
   "metadata": {},
   "outputs": [],
   "source": [
    "from nupic.torch.modules import (\n",
    "    KWinners2d, KWinners, SparseWeights, Flatten, rezeroWeights, updateBoostStrength)\n",
    "\n",
    "sparseCNN = nn.Sequential(\n",
    "    # Sparse CNN layer\n",
    "    nn.Conv2d(in_channels=IN_CHANNELS, out_channels=OUT_CHANNELS, kernel_size=KERNEL_SIZE),\n",
    "    KWinners2d(n=CNN_OUTPUT_LEN, channels=OUT_CHANNELS,\n",
    "               k=CNN_K, kInferenceFactor=K_INFERENCE_FACTOR,\n",
    "               boostStrength=BOOST_STRENGTH, boostStrengthFactor=BOOST_STRENGTH_FACTOR),\n",
    "    nn.MaxPool2d(kernel_size=2),\n",
    "\n",
    "    # Flatten max pool output before passing to linear layer\n",
    "    Flatten(),\n",
    "\n",
    "    # Sparse Linear layer\n",
    "    SparseWeights(nn.Linear(CNN_OUTPUT_LEN, HIDDEN_SIZE), WEIGHT_SPARSITY),\n",
    "    KWinners(n=HIDDEN_SIZE, k=K, kInferenceFactor=K_INFERENCE_FACTOR,\n",
    "             boostStrength=BOOST_STRENGTH, boostStrengthFactor=BOOST_STRENGTH_FACTOR),\n",
    "\n",
    "    # Output layer\n",
    "    nn.Linear(HIDDEN_SIZE, OUTPUT_SIZE),\n",
    "    nn.LogSoftmax(dim=1)\n",
    ").to(device)"
   ]
  },
  {
   "cell_type": "markdown",
   "metadata": {},
   "source": [
    "### Load MNIST Dataset"
   ]
  },
  {
   "cell_type": "code",
   "execution_count": 7,
   "metadata": {},
   "outputs": [],
   "source": [
    "normalize = transforms.Compose([transforms.ToTensor(),transforms.Normalize((0.1307,), (0.3081,))])\n",
    "train_dataset = datasets.MNIST('data', train=True, download=True, transform=normalize)\n",
    "test_dataset = datasets.MNIST('data', train=False, transform=normalize)\n",
    "\n",
    "# Configure data loaders\n",
    "train_loader = torch.utils.data.DataLoader(train_dataset, batch_size=TRAIN_BATCH_SIZE, shuffle=True)\n",
    "test_loader = torch.utils.data.DataLoader(test_dataset, batch_size=TEST_BATCH_SIZE, shuffle=True)\n",
    "first_loader = torch.utils.data.DataLoader(train_dataset, batch_size=FIRST_EPOCH_BATCH_SIZE, shuffle=True)"
   ]
  },
  {
   "cell_type": "markdown",
   "metadata": {},
   "source": [
    "### Train\n",
    "On the first epoch we use smaller batch size to calculate the duty cycles used by the k-winner function. Once the duty cycles stabilize we can use larger batch sizes."
   ]
  },
  {
   "cell_type": "code",
   "execution_count": 8,
   "metadata": {},
   "outputs": [],
   "source": [
    "sgd = optim.SGD(sparseCNN.parameters(), lr=LEARNING_RATE, momentum=MOMENTUM)\n",
    "train(model=sparseCNN, loader=first_loader, optimizer=sgd, criterion=F.nll_loss)"
   ]
  },
  {
   "cell_type": "markdown",
   "metadata": {},
   "source": [
    "After each epoch we rezero the weights to keep the initial sparsity constant during training. We also apply the boost strength factor after each epoch"
   ]
  },
  {
   "cell_type": "code",
   "execution_count": 9,
   "metadata": {},
   "outputs": [],
   "source": [
    "%%capture\n",
    "sparseCNN.apply(rezeroWeights)\n",
    "sparseCNN.apply(updateBoostStrength)"
   ]
  },
  {
   "cell_type": "markdown",
   "metadata": {},
   "source": [
    "Test and print results"
   ]
  },
  {
   "cell_type": "code",
   "execution_count": 10,
   "metadata": {},
   "outputs": [
    {
     "data": {
      "text/plain": [
       "{'accuracy': 0.9782, 'loss': 0.06787856979370117, 'total_correct': 9782}"
      ]
     },
     "execution_count": 10,
     "metadata": {},
     "output_type": "execute_result"
    }
   ],
   "source": [
    "test(model=sparseCNN, loader=test_loader, criterion=F.nll_loss)"
   ]
  },
  {
   "cell_type": "markdown",
   "metadata": {},
   "source": [
    "At this point the duty cycles should be stable and we can train on larger batch sizes"
   ]
  },
  {
   "cell_type": "code",
   "execution_count": 11,
   "metadata": {},
   "outputs": [
    {
     "name": "stdout",
     "output_type": "stream",
     "text": [
      "{'accuracy': 0.9862, 'loss': 0.0412615779876709, 'total_correct': 9862}\n",
      "{'accuracy': 0.9868, 'loss': 0.04029187545776367, 'total_correct': 9868}\n",
      "{'accuracy': 0.9867, 'loss': 0.03934368209838867, 'total_correct': 9867}\n",
      "{'accuracy': 0.9876, 'loss': 0.03759277114868164, 'total_correct': 9876}\n",
      "{'accuracy': 0.9877, 'loss': 0.03777754402160644, 'total_correct': 9877}\n",
      "{'accuracy': 0.9872, 'loss': 0.03784116630554199, 'total_correct': 9872}\n",
      "{'accuracy': 0.9872, 'loss': 0.03829168930053711, 'total_correct': 9872}\n",
      "{'accuracy': 0.9876, 'loss': 0.03837165260314941, 'total_correct': 9876}\n",
      "{'accuracy': 0.9871, 'loss': 0.03919747161865234, 'total_correct': 9871}\n"
     ]
    }
   ],
   "source": [
    "for epoch in range(1, EPOCHS):\n",
    "    train(model=sparseCNN, loader=train_loader, optimizer=sgd, criterion=F.nll_loss)\n",
    "    sparseCNN.apply(rezeroWeights)\n",
    "    sparseCNN.apply(updateBoostStrength)\n",
    "    results = test(model=sparseCNN, loader=test_loader, criterion=F.nll_loss)\n",
    "    print(results)"
   ]
  },
  {
   "cell_type": "markdown",
   "metadata": {},
   "source": [
    "### Noise\n",
    "Add noise to the input and check the test accuracy"
   ]
  },
  {
   "cell_type": "code",
   "execution_count": 12,
   "metadata": {},
   "outputs": [
    {
     "name": "stdout",
     "output_type": "stream",
     "text": [
      "0.05 : {'accuracy': 0.9841, 'loss': 0.05029125137329102, 'total_correct': 9841}\n",
      "0.1 : {'accuracy': 0.9777, 'loss': 0.06853677139282227, 'total_correct': 9777}\n",
      "0.15 : {'accuracy': 0.9697, 'loss': 0.09935387115478515, 'total_correct': 9697}\n",
      "0.2 : {'accuracy': 0.9509, 'loss': 0.1598887924194336, 'total_correct': 9509}\n",
      "0.25 : {'accuracy': 0.9225, 'loss': 0.2412475631713867, 'total_correct': 9225}\n"
     ]
    }
   ],
   "source": [
    "for noise in NOISE_LEVELS:\n",
    "    noise_transform = transforms.Compose([transforms.ToTensor(), RandomNoise(noise), \n",
    "                                      transforms.Normalize((0.1307,), (0.3081,))])\n",
    "    noise_dataset = datasets.MNIST('data', train=False, transform=noise_transform)\n",
    "    noise_loader = torch.utils.data.DataLoader(noise_dataset, batch_size=TEST_BATCH_SIZE, shuffle=True)\n",
    "\n",
    "    results = test(model=sparseCNN, loader=noise_loader, criterion=F.nll_loss)\n",
    "    print(noise, \":\", results)"
   ]
  }
 ],
 "metadata": {
  "kernelspec": {
   "display_name": "Python 3",
   "language": "python",
   "name": "python3"
  },
  "language_info": {
   "codemirror_mode": {
    "name": "ipython",
    "version": 3
   },
   "file_extension": ".py",
   "mimetype": "text/x-python",
   "name": "python",
   "nbconvert_exporter": "python",
   "pygments_lexer": "ipython3",
   "version": "3.7.3"
  }
 },
 "nbformat": 4,
 "nbformat_minor": 2
}
